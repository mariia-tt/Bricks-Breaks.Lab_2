{
 "cells": [
  {
   "cell_type": "code",
   "execution_count": 0,
   "metadata": {
    "application/vnd.databricks.v1+cell": {
     "cellMetadata": {
      "byteLimit": 2048000,
      "rowLimit": 10000
     },
     "inputWidgets": {},
     "nuid": "4f05524e-003d-4d5b-9580-e5fe41efe36f",
     "showTitle": false,
     "tableResultSettingsMap": {},
     "title": ""
    }
   },
   "outputs": [],
   "source": [
    "_ = spark.sql(f\"CREATE CATALOG IF NOT EXISTS airbnb\")\n",
    "_ = spark.sql(f\"CREATE SCHEMA IF NOT EXISTS airbnb.raw\")\n",
    "_ = spark.sql(f\"CREATE VOLUME IF NOT EXISTS airbnb.raw.vol\")"
   ]
  },
  {
   "cell_type": "code",
   "execution_count": 0,
   "metadata": {
    "application/vnd.databricks.v1+cell": {
     "cellMetadata": {
      "byteLimit": 2048000,
      "rowLimit": 10000
     },
     "inputWidgets": {},
     "nuid": "0b4acf39-008f-4715-bc82-fd48e0334b0a",
     "showTitle": false,
     "tableResultSettingsMap": {},
     "title": ""
    }
   },
   "outputs": [],
   "source": [
    "contracts_path = \"/Volumes/airbnb/raw/vol/contracts\"\n",
    "print(f'Contracts path : contrancts_path=\"{contracts_path}\"')"
   ]
  },
  {
   "cell_type": "code",
   "execution_count": 0,
   "metadata": {
    "application/vnd.databricks.v1+cell": {
     "cellMetadata": {
      "byteLimit": 2048000,
      "rowLimit": 10000
     },
     "inputWidgets": {},
     "nuid": "ac195f8d-cb9c-409b-8cba-f387e472b6c2",
     "showTitle": false,
     "tableResultSettingsMap": {},
     "title": ""
    }
   },
   "outputs": [],
   "source": [
    "import json\n",
    "from pyspark.sql.types import StructType, StructField, StringType, LongType, DoubleType"
   ]
  },
  {
   "cell_type": "code",
   "execution_count": 0,
   "metadata": {
    "application/vnd.databricks.v1+cell": {
     "cellMetadata": {
      "byteLimit": 2048000,
      "rowLimit": 10000
     },
     "inputWidgets": {},
     "nuid": "fe550ae6-420a-474e-8943-cb6343ff8cc9",
     "showTitle": false,
     "tableResultSettingsMap": {},
     "title": ""
    }
   },
   "outputs": [],
   "source": [
    "listing_schema = StructType(\n",
    "    [\n",
    "        StructField(\"listing_url\", StringType(), True),\n",
    "        StructField(\"scrape_id\", LongType(), True),\n",
    "        StructField(\"last_scraped\", StringType(), True),\n",
    "        StructField(\"source\", StringType(), True),\n",
    "        StructField(\"name\", StringType(), True),\n",
    "        StructField(\"description\", StringType(), True),\n",
    "        StructField(\"neighborhood_overview\", StringType(), True),\n",
    "        StructField(\"picture_url\", StringType(), True),\n",
    "        StructField(\"host_id\", LongType(), True),\n",
    "        StructField(\"host_url\", StringType(), True),\n",
    "        StructField(\"host_name\", StringType(), True),\n",
    "        StructField(\"host_since\", StringType(), True),\n",
    "        StructField(\"host_location\", StringType(), True),\n",
    "        StructField(\"host_about\", StringType(), True),\n",
    "        StructField(\"host_response_time\", StringType(), True),\n",
    "        StructField(\"host_response_rate\", StringType(), True),\n",
    "        StructField(\"host_acceptance_rate\", StringType(), True),\n",
    "        StructField(\"host_is_superhost\", StringType(), True),\n",
    "        StructField(\"host_thumbnail_url\", StringType(), True),\n",
    "        StructField(\"host_picture_url\", StringType(), True),\n",
    "        StructField(\"host_neighbourhood\", StringType(), True),\n",
    "        StructField(\"host_listings_count\", DoubleType(), True),\n",
    "        StructField(\"host_total_listings_count\", DoubleType(), True),\n",
    "        StructField(\"host_verifications\", StringType(), True),\n",
    "        StructField(\"host_has_profile_pic\", StringType(), True),\n",
    "        StructField(\"host_identity_verified\", StringType(), True),\n",
    "        StructField(\"neighbourhood\", StringType(), True),\n",
    "        StructField(\"neighbourhood_cleansed\", StringType(), True),\n",
    "        StructField(\"neighbourhood_group_cleansed\", DoubleType(), True),\n",
    "        StructField(\"latitude\", DoubleType(), True),\n",
    "        StructField(\"longitude\", DoubleType(), True),\n",
    "        StructField(\"property_type\", StringType(), True),\n",
    "        StructField(\"room_type\", StringType(), True),\n",
    "        StructField(\"accommodates\", LongType(), True),\n",
    "        StructField(\"bathrooms\", DoubleType(), True),\n",
    "        StructField(\"bathrooms_text\", StringType(), True),\n",
    "        StructField(\"bedrooms\", DoubleType(), True),\n",
    "        StructField(\"beds\", DoubleType(), True),\n",
    "        StructField(\"amenities\", StringType(), True),\n",
    "        StructField(\"price\", StringType(), True),\n",
    "        StructField(\"minimum_nights\", LongType(), True),\n",
    "        StructField(\"maximum_nights\", LongType(), True),\n",
    "        StructField(\"minimum_minimum_nights\", LongType(), True),\n",
    "        StructField(\"maximum_minimum_nights\", LongType(), True),\n",
    "        StructField(\"minimum_maximum_nights\", LongType(), True),\n",
    "        StructField(\"maximum_maximum_nights\", LongType(), True),\n",
    "        StructField(\"minimum_nights_avg_ntm\", DoubleType(), True),\n",
    "        StructField(\"maximum_nights_avg_ntm\", DoubleType(), True),\n",
    "        StructField(\"calendar_updated\", DoubleType(), True),\n",
    "        StructField(\"has_availability\", StringType(), True),\n",
    "        StructField(\"availability_30\", LongType(), True),\n",
    "        StructField(\"availability_60\", LongType(), True),\n",
    "        StructField(\"availability_90\", LongType(), True),\n",
    "        StructField(\"availability_365\", LongType(), True),\n",
    "        StructField(\"calendar_last_scraped\", StringType(), True),\n",
    "        StructField(\"number_of_reviews\", LongType(), True),\n",
    "        StructField(\"number_of_reviews_ltm\", LongType(), True),\n",
    "        StructField(\"number_of_reviews_l30d\", LongType(), True),\n",
    "        StructField(\"first_review\", StringType(), True),\n",
    "        StructField(\"last_review\", StringType(), True),\n",
    "        StructField(\"review_scores_rating\", DoubleType(), True),\n",
    "        StructField(\"review_scores_accuracy\", DoubleType(), True),\n",
    "        StructField(\"review_scores_cleanliness\", DoubleType(), True),\n",
    "        StructField(\"review_scores_checkin\", DoubleType(), True),\n",
    "        StructField(\"review_scores_communication\", DoubleType(), True),\n",
    "        StructField(\"review_scores_location\", DoubleType(), True),\n",
    "        StructField(\"review_scores_value\", DoubleType(), True),\n",
    "        StructField(\"license\", StringType(), True),\n",
    "        StructField(\"instant_bookable\", StringType(), True),\n",
    "        StructField(\"calculated_host_listings_count\", LongType(), True),\n",
    "        StructField(\"calculated_host_listings_count_entire_homes\", LongType(), True),\n",
    "        StructField(\"calculated_host_listings_count_private_rooms\", LongType(), True),\n",
    "        StructField(\"calculated_host_listings_count_shared_rooms\", LongType(), True),\n",
    "        StructField(\"reviews_per_month\", DoubleType(), True),\n",
    "    ]\n",
    ")"
   ]
  },
  {
   "cell_type": "code",
   "execution_count": 0,
   "metadata": {
    "application/vnd.databricks.v1+cell": {
     "cellMetadata": {
      "byteLimit": 2048000,
      "rowLimit": 10000
     },
     "inputWidgets": {},
     "nuid": "904a39cb-4ca3-4709-80c3-dd2fe4910b56",
     "showTitle": false,
     "tableResultSettingsMap": {},
     "title": ""
    }
   },
   "outputs": [],
   "source": [
    "calendar_schema = StructType(\n",
    "    [\n",
    "        StructField(\"date\", StringType(), True),\n",
    "        StructField(\"available\", StringType(), True),\n",
    "        StructField(\"price\", StringType(), True),\n",
    "        StructField(\"adjusted_price\", StringType(), True),\n",
    "        StructField(\"minimum_nights\", LongType(), True),\n",
    "        StructField(\"maximum_nights\", LongType(), True),\n",
    "    ]\n",
    ")"
   ]
  },
  {
   "cell_type": "code",
   "execution_count": 0,
   "metadata": {
    "application/vnd.databricks.v1+cell": {
     "cellMetadata": {
      "byteLimit": 2048000,
      "rowLimit": 10000
     },
     "inputWidgets": {},
     "nuid": "c69aeeb7-6d22-44e2-8ea5-2e2f4e86fa17",
     "showTitle": false,
     "tableResultSettingsMap": {},
     "title": ""
    }
   },
   "outputs": [],
   "source": [
    "agg_listing_schema = StructType(\n",
    "    [\n",
    "        StructField(\"name\", StringType(), True),\n",
    "        StructField(\"host_id\", LongType(), True),\n",
    "        StructField(\"host_name\", StringType(), True),\n",
    "        StructField(\"neighbourhood_group\", DoubleType(), True),\n",
    "        StructField(\"neighbourhood\", StringType(), True),\n",
    "        StructField(\"latitude\", DoubleType(), True),\n",
    "        StructField(\"longitude\", DoubleType(), True),\n",
    "        StructField(\"room_type\", StringType(), True),\n",
    "        StructField(\"price\", LongType(), True),\n",
    "        StructField(\"minimum_nights\", LongType(), True),\n",
    "        StructField(\"number_of_reviews\", LongType(), True),\n",
    "        StructField(\"last_review\", StringType(), True),\n",
    "        StructField(\"reviews_per_month\", DoubleType(), True),\n",
    "        StructField(\"calculated_host_listings_count\", LongType(), True),\n",
    "        StructField(\"availability_365\", LongType(), True),\n",
    "        StructField(\"number_of_reviews_ltm\", LongType(), True),\n",
    "        StructField(\"license\", StringType(), True),\n",
    "    ]\n",
    ")"
   ]
  },
  {
   "cell_type": "code",
   "execution_count": 0,
   "metadata": {
    "application/vnd.databricks.v1+cell": {
     "cellMetadata": {
      "byteLimit": 2048000,
      "rowLimit": 10000
     },
     "inputWidgets": {},
     "nuid": "b77b20db-cdbc-4147-b928-966d464a8fb1",
     "showTitle": false,
     "tableResultSettingsMap": {},
     "title": ""
    }
   },
   "outputs": [],
   "source": [
    "dbutils.fs.put(contracts_path + \"/listing_schema.json\", listing_schema.json(), True)\n",
    "dbutils.fs.put(contracts_path + \"/calendar_schema.json\", calendar_schema.json(), True)\n",
    "dbutils.fs.put(\n",
    "    contracts_path + \"/agg_listing_schema.json\", agg_listing_schema.json(), True\n",
    ")"
   ]
  }
 ],
 "metadata": {
  "application/vnd.databricks.v1+notebook": {
   "computePreferences": null,
   "dashboards": [],
   "environmentMetadata": {
    "base_environment": "",
    "environment_version": "3"
   },
   "inputWidgetPreferences": null,
   "language": "python",
   "notebookMetadata": {
    "pythonIndentUnit": 4,
    "widgetLayout": []
   },
   "notebookName": "setup",
   "widgets": {}
  },
  "language_info": {
   "name": "python"
  }
 },
 "nbformat": 4,
 "nbformat_minor": 0
}
