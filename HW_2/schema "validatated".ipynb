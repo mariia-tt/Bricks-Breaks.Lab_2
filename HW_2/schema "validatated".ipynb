{
 "cells": [
  {
   "cell_type": "code",
   "execution_count": 0,
   "metadata": {
    "application/vnd.databricks.v1+cell": {
     "cellMetadata": {
      "byteLimit": 2048000,
      "rowLimit": 10000
     },
     "inputWidgets": {},
     "nuid": "f60ce2da-53fe-4bfb-a804-267f307c5800",
     "showTitle": false,
     "tableResultSettingsMap": {},
     "title": ""
    }
   },
   "outputs": [],
   "source": [
    "# Створюємо схему 'validated' в каталозі 'airbnb'\n",
    "spark.sql(\"CREATE SCHEMA IF NOT EXISTS airbnb.validated\")\n"
   ]
  },
  {
   "cell_type": "code",
   "execution_count": 0,
   "metadata": {
    "application/vnd.databricks.v1+cell": {
     "cellMetadata": {
      "byteLimit": 2048000,
      "rowLimit": 10000
     },
     "inputWidgets": {},
     "nuid": "9a0e66e2-34f6-4b6e-9c27-fa2a99dd059c",
     "showTitle": false,
     "tableResultSettingsMap": {},
     "title": ""
    }
   },
   "outputs": [],
   "source": [
    "import pyspark.sql.functions as f\n",
    "\n",
    "df_airbnb = spark.read.table(\"airbnb.raw.listings\")\n",
    "\n",
    "columns_to_keep = [\n",
    "    'host_id','host_since','host_is_superhost', 'host_response_time', \n",
    "    'host_response_rate', 'host_acceptance_rate', 'host_neighbourhood',\n",
    "    'host_listings_count', 'host_identity_verified',\n",
    "    'latitude','longitude','property_type','room_type','accommodates',\n",
    "    'bathrooms','bathrooms_text','bedrooms','beds','amenities','price',\n",
    "    'minimum_nights','maximum_nights', 'number_of_reviews',\n",
    "    'first_review', 'last_review', 'review_scores_rating',\n",
    "    'review_scores_cleanliness', 'review_scores_checkin', \n",
    "    'review_scores_communication', 'review_scores_location',\n",
    "    'review_scores_value', 'license','instant_bookable','reviews_per_month'\n",
    "]\n",
    "\n",
    "df_subset = df_airbnb.select(columns_to_keep)\n"
   ]
  },
  {
   "cell_type": "markdown",
   "metadata": {
    "application/vnd.databricks.v1+cell": {
     "cellMetadata": {
      "byteLimit": 2048000,
      "rowLimit": 10000
     },
     "inputWidgets": {},
     "nuid": "742d06a2-41e5-4c48-a3d8-f0b86f6e2fb2",
     "showTitle": false,
     "tableResultSettingsMap": {},
     "title": ""
    }
   },
   "source": [
    "### Базове очищення\n"
   ]
  },
  {
   "cell_type": "code",
   "execution_count": 0,
   "metadata": {
    "application/vnd.databricks.v1+cell": {
     "cellMetadata": {
      "byteLimit": 2048000,
      "rowLimit": 10000
     },
     "inputWidgets": {},
     "nuid": "5541f3de-bf89-4419-9a6d-65358c66c9c2",
     "showTitle": false,
     "tableResultSettingsMap": {},
     "title": ""
    }
   },
   "outputs": [],
   "source": [
    "df_cleaned = df_subset.withColumn(\n",
    "    \"price_clean\",\n",
    "    f.regexp_replace(\"price\", \"[$,]\", \"\").cast(\"double\")\n",
    ").withColumn(\n",
    "    \"host_response_rate_clean\",\n",
    "    f.regexp_replace(\"host_response_rate\", \"%\", \"\").cast(\"double\")\n",
    ").withColumn(\n",
    "    \"host_acceptance_rate_clean\",\n",
    "    f.regexp_replace(\"host_acceptance_rate\", \"%\", \"\").cast(\"double\")\n",
    ")\n",
    "\n",
    "df_cleaned = df_cleaned.dropna(subset=[\"latitude\", \"longitude\", \"property_type\"])\n",
    "\n",
    "df_cleaned = df_cleaned.fillna({\n",
    "    \"bathrooms\": 0,\n",
    "    \"bedrooms\": 0,\n",
    "    \"beds\": 0,\n",
    "    \"reviews_per_month\": 0\n",
    "})\n",
    "\n",
    "\n",
    "\n"
   ]
  },
  {
   "cell_type": "code",
   "execution_count": 0,
   "metadata": {
    "application/vnd.databricks.v1+cell": {
     "cellMetadata": {
      "byteLimit": 2048000,
      "rowLimit": 10000
     },
     "inputWidgets": {},
     "nuid": "44b1ed7b-5c94-4d02-85e3-48dc757b4ea0",
     "showTitle": false,
     "tableResultSettingsMap": {},
     "title": ""
    }
   },
   "outputs": [],
   "source": [
    "# Видаляємо стару таблицю\n",
    "spark.sql(\"DROP TABLE IF EXISTS airbnb.validated.listings_cleaned\")\n"
   ]
  },
  {
   "cell_type": "code",
   "execution_count": 0,
   "metadata": {
    "application/vnd.databricks.v1+cell": {
     "cellMetadata": {
      "byteLimit": 2048000,
      "rowLimit": 10000
     },
     "inputWidgets": {},
     "nuid": "147e3bf8-44b6-46fa-b1cf-81814e397eb7",
     "showTitle": false,
     "tableResultSettingsMap": {},
     "title": ""
    }
   },
   "outputs": [],
   "source": [
    "# Булеві значення\n",
    "df_cleaned = df_cleaned.withColumn(\n",
    "    \"host_is_superhost_bool\",\n",
    "    f.col(\"host_is_superhost\") == \"t\"\n",
    ").withColumn(\n",
    "    \"host_identity_verified_bool\",\n",
    "    f.col(\"host_identity_verified\") == \"t\"\n",
    ").withColumn(\n",
    "    \"instant_bookable_bool\",\n",
    "    f.col(\"instant_bookable\") == \"t\"\n",
    ")\n",
    "\n",
    "# Дати\n",
    "df_cleaned = df_cleaned.withColumn(\"host_since\", f.to_date(\"host_since\")) \\\n",
    "    .withColumn(\"first_review\", f.to_date(\"first_review\")) \\\n",
    "    .withColumn(\"last_review\", f.to_date(\"last_review\"))\n",
    "\n",
    "# Вік оголошення\n",
    "df_cleaned = df_cleaned.withColumn(\n",
    "    \"listing_age_days\",\n",
    "    f.datediff(f.current_date(), f.col(\"host_since\"))\n",
    ")\n",
    "\n",
    "# Витяг кількості ванних кімнат з тексту\n",
    "df_cleaned = df_cleaned.withColumn(\n",
    "    \"bathrooms_extracted\",\n",
    "    f.regexp_extract(\"bathrooms_text\", r\"([0-9]+\\.?[0-9]*)\", 1).cast(\"double\")\n",
    ")\n",
    "\n"
   ]
  },
  {
   "cell_type": "markdown",
   "metadata": {
    "application/vnd.databricks.v1+cell": {
     "cellMetadata": {
      "byteLimit": 2048000,
      "rowLimit": 10000
     },
     "inputWidgets": {},
     "nuid": "1f1dfd0c-c2ca-4c39-8ea9-65a3e2fc40aa",
     "showTitle": false,
     "tableResultSettingsMap": {},
     "title": ""
    }
   },
   "source": [
    "Заповнення"
   ]
  },
  {
   "cell_type": "code",
   "execution_count": 0,
   "metadata": {
    "application/vnd.databricks.v1+cell": {
     "cellMetadata": {
      "byteLimit": 2048000,
      "rowLimit": 10000
     },
     "inputWidgets": {},
     "nuid": "ccc0a7d0-2183-4a8d-a35d-6975cfea6962",
     "showTitle": false,
     "tableResultSettingsMap": {},
     "title": ""
    }
   },
   "outputs": [],
   "source": [
    "spark.sql(\"CREATE SCHEMA IF NOT EXISTS airbnb.validated\")\n",
    "\n",
    "df_cleaned.write.mode(\"overwrite\").saveAsTable(\"airbnb.validated.listings_cleaned\")\n",
    "\n"
   ]
  },
  {
   "cell_type": "code",
   "execution_count": 0,
   "metadata": {
    "application/vnd.databricks.v1+cell": {
     "cellMetadata": {
      "byteLimit": 2048000,
      "rowLimit": 10000
     },
     "inputWidgets": {},
     "nuid": "8a38f379-a06c-48f1-9fde-389f2ba48c5e",
     "showTitle": false,
     "tableResultSettingsMap": {},
     "title": ""
    }
   },
   "outputs": [],
   "source": [
    "spark.read.table(\"airbnb.validated.listings_cleaned\").printSchema()\n",
    "display(spark.read.table(\"airbnb.validated.listings_cleaned\"))\n"
   ]
  },
  {
   "cell_type": "code",
   "execution_count": 0,
   "metadata": {
    "application/vnd.databricks.v1+cell": {
     "cellMetadata": {
      "byteLimit": 2048000,
      "rowLimit": 10000
     },
     "inputWidgets": {},
     "nuid": "20d181a5-f93a-4eaa-bf3d-7687b8cd8dac",
     "showTitle": false,
     "tableResultSettingsMap": {},
     "title": ""
    }
   },
   "outputs": [],
   "source": [
    "spark.read.table(\"airbnb.validated.listings_cleaned\").printSchema()\n"
   ]
  },
  {
   "cell_type": "code",
   "execution_count": 0,
   "metadata": {
    "application/vnd.databricks.v1+cell": {
     "cellMetadata": {
      "byteLimit": 2048000,
      "rowLimit": 10000
     },
     "inputWidgets": {},
     "nuid": "405127c4-a05d-4220-8944-c6172417a421",
     "showTitle": false,
     "tableResultSettingsMap": {},
     "title": ""
    }
   },
   "outputs": [],
   "source": [
    "display(spark.read.table(\"airbnb.validated.listings_cleaned\"))\n"
   ]
  },
  {
   "cell_type": "markdown",
   "metadata": {
    "application/vnd.databricks.v1+cell": {
     "cellMetadata": {
      "byteLimit": 2048000,
      "rowLimit": 10000
     },
     "inputWidgets": {},
     "nuid": "9e392679-d16c-4806-b840-30a53c9bc822",
     "showTitle": false,
     "tableResultSettingsMap": {},
     "title": ""
    }
   },
   "source": [
    "Враховуючи, що мета, створити перевірений набір, а не повністю очищений\n",
    "\n",
    "- Вибрано релевантні колонки з сирої таблиці airbnb.raw.listings.\n",
    "- Проведено базову перевірку якості даних: очищено price, host_response_rate, host_acceptance_rate від символів;\n",
    "- Перетворено деякі текстові поля на числові та булеві;\n",
    "- Витягнуто кількість ванних кімнат з bathrooms_text;\n",
    "- Обчислено вік лістингу (listing_age_days);\n",
    "- Перетворено дати на тип date;\n",
    "- Видалено рядки з критичними відсутніми значеннями (latitude, longitude, property_type).\n",
    "- Збережено результат у таблицю airbnb.validated.listings_cleaned\n"
   ]
  },
  {
   "cell_type": "markdown",
   "metadata": {
    "application/vnd.databricks.v1+cell": {
     "cellMetadata": {
      "byteLimit": 2048000,
      "rowLimit": 10000
     },
     "inputWidgets": {},
     "nuid": "98739fdd-2245-40ea-b0ce-d6b66d56fe4a",
     "showTitle": false,
     "tableResultSettingsMap": {},
     "title": ""
    }
   },
   "source": [
    "# Test"
   ]
  },
  {
   "cell_type": "code",
   "execution_count": 0,
   "metadata": {
    "application/vnd.databricks.v1+cell": {
     "cellMetadata": {
      "byteLimit": 2048000,
      "rowLimit": 10000
     },
     "inputWidgets": {},
     "nuid": "03d2ec0e-000b-4430-90f5-49e78563cc34",
     "showTitle": false,
     "tableResultSettingsMap": {},
     "title": ""
    }
   },
   "outputs": [],
   "source": [
    "spark.sql(\"CREATE SCHEMA IF NOT EXISTS airbnb.validated\")\n",
    "\n",
    "df_cleaned.write.mode(\"overwrite\").saveAsTable(\"airbnb.validated.listings_cleaned_1\")\n"
   ]
  },
  {
   "cell_type": "code",
   "execution_count": 0,
   "metadata": {
    "application/vnd.databricks.v1+cell": {
     "cellMetadata": {
      "byteLimit": 2048000,
      "rowLimit": 10000
     },
     "inputWidgets": {},
     "nuid": "bac2355f-4bc0-47f4-8ff2-fb260d2b06e6",
     "showTitle": false,
     "tableResultSettingsMap": {},
     "title": ""
    }
   },
   "outputs": [],
   "source": [
    "display(spark.read.table(\"airbnb.validated.listings_cleaned_1\"))\n"
   ]
  },
  {
   "cell_type": "code",
   "execution_count": 0,
   "metadata": {
    "application/vnd.databricks.v1+cell": {
     "cellMetadata": {
      "byteLimit": 2048000,
      "rowLimit": 10000
     },
     "inputWidgets": {},
     "nuid": "c6f707d6-6ef9-426a-a907-677769e3d043",
     "showTitle": false,
     "tableResultSettingsMap": {},
     "title": ""
    }
   },
   "outputs": [],
   "source": [
    "import pyspark.sql.functions as f\n",
    "\n",
    "df_airbnb = spark.read.table(\"airbnb.raw.listings\")\n",
    "\n",
    "columns_to_keep = [\n",
    "    'host_id','host_since','host_is_superhost', 'host_response_time', \n",
    "    'host_response_rate', 'host_acceptance_rate', 'host_neighbourhood',\n",
    "    'host_listings_count', 'host_identity_verified',\n",
    "    'latitude','longitude','property_type','room_type','accommodates',\n",
    "    'bathrooms','bathrooms_text','bedrooms','beds','amenities','price',\n",
    "    'minimum_nights','maximum_nights', 'number_of_reviews',\n",
    "    'first_review', 'last_review', 'review_scores_rating',\n",
    "    'review_scores_cleanliness', 'review_scores_checkin', \n",
    "    'review_scores_communication', 'review_scores_location',\n",
    "    'review_scores_value', 'license','instant_bookable','reviews_per_month'\n",
    "]\n",
    "\n",
    "df_subset = df_airbnb.select(columns_to_keep)\n",
    "\n",
    "df_cleaned = df_subset \\\n",
    "    .withColumn(\"price_clean\", f.expr(\"try_cast(regexp_replace(price, '[$,]', '') AS double)\")) \\\n",
    "    .withColumn(\"host_response_rate_clean\", f.expr(\"try_cast(regexp_replace(host_response_rate, '%', '') AS double)\")) \\\n",
    "    .withColumn(\"host_acceptance_rate_clean\", f.expr(\"try_cast(regexp_replace(host_acceptance_rate, '%', '') AS double)\")) \\\n",
    "    .withColumn(\"host_is_superhost_bool\", f.col(\"host_is_superhost\") == \"t\") \\\n",
    "    .withColumn(\"host_identity_verified_bool\", f.col(\"host_identity_verified\") == \"t\") \\\n",
    "    .withColumn(\"instant_bookable_bool\", f.col(\"instant_bookable\") == \"t\") \\\n",
    "    .withColumn(\"host_since\", f.to_date(\"host_since\")) \\\n",
    "    .withColumn(\"first_review\", f.to_date(\"first_review\")) \\\n",
    "    .withColumn(\"last_review\", f.to_date(\"last_review\")) \\\n",
    "    .withColumn(\"listing_age_days\", f.datediff(f.current_date(), f.col(\"host_since\"))) \\\n",
    "    .withColumn(\"bathrooms_extracted\", f.expr(\"try_cast(regexp_extract(bathrooms_text, '([0-9]+\\\\.?[0-9]*)', 1) AS double)\")) \\\n",
    "    .dropna(subset=[\"latitude\", \"longitude\", \"property_type\"])\n",
    "\n",
    "spark.sql(\"CREATE SCHEMA IF NOT EXISTS airbnb.validated\")\n",
    "\n",
    "df_cleaned.write.mode(\"overwrite\").saveAsTable(\"airbnb.validated.listings_cleaned\")\n"
   ]
  },
  {
   "cell_type": "code",
   "execution_count": 0,
   "metadata": {
    "application/vnd.databricks.v1+cell": {
     "cellMetadata": {
      "byteLimit": 2048000,
      "rowLimit": 10000
     },
     "inputWidgets": {},
     "nuid": "9986ee54-6b3d-4c4d-b93d-73c784ea3037",
     "showTitle": false,
     "tableResultSettingsMap": {},
     "title": ""
    }
   },
   "outputs": [],
   "source": [
    "display(spark.read.table(\"airbnb.validated.listings_cleaned\"))\n"
   ]
  }
 ],
 "metadata": {
  "application/vnd.databricks.v1+notebook": {
   "computePreferences": null,
   "dashboards": [],
   "environmentMetadata": {
    "base_environment": "",
    "environment_version": "4"
   },
   "inputWidgetPreferences": null,
   "language": "python",
   "notebookMetadata": {
    "pythonIndentUnit": 4
   },
   "notebookName": "schema \"validatated\"",
   "widgets": {}
  },
  "language_info": {
   "name": "python"
  }
 },
 "nbformat": 4,
 "nbformat_minor": 0
}
